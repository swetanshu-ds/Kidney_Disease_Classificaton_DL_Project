{
 "cells": [
  {
   "cell_type": "code",
   "execution_count": 1,
   "metadata": {},
   "outputs": [],
   "source": [
    "# config box\n",
    "\n",
    "d = {\"key\":\"val\",\"key1\":\"val1\"}"
   ]
  },
  {
   "cell_type": "code",
   "execution_count": 2,
   "metadata": {},
   "outputs": [
    {
     "data": {
      "text/plain": [
       "'val'"
      ]
     },
     "execution_count": 2,
     "metadata": {},
     "output_type": "execute_result"
    }
   ],
   "source": [
    "d['key']"
   ]
  },
  {
   "cell_type": "code",
   "execution_count": 3,
   "metadata": {},
   "outputs": [
    {
     "ename": "AttributeError",
     "evalue": "'dict' object has no attribute 'key'",
     "output_type": "error",
     "traceback": [
      "\u001b[1;31m---------------------------------------------------------------------------\u001b[0m",
      "\u001b[1;31mAttributeError\u001b[0m                            Traceback (most recent call last)",
      "\u001b[1;32md:\\Python\\python all\\Projects\\Kidney_Disease_classification\\Kidney_Disease_Classificaton_DL_Project\\research\\trials.ipynb Cell 3\u001b[0m line \u001b[0;36m1\n\u001b[1;32m----> <a href='vscode-notebook-cell:/d%3A/Python/python%20all/Projects/Kidney_Disease_classification/Kidney_Disease_Classificaton_DL_Project/research/trials.ipynb#W2sZmlsZQ%3D%3D?line=0'>1</a>\u001b[0m d\u001b[39m.\u001b[39mkey\n",
      "\u001b[1;31mAttributeError\u001b[0m: 'dict' object has no attribute 'key'"
     ]
    }
   ],
   "source": [
    "d.key"
   ]
  },
  {
   "cell_type": "code",
   "execution_count": null,
   "metadata": {},
   "outputs": [
    {
     "ename": "",
     "evalue": "",
     "output_type": "error",
     "traceback": [
      "\u001b[1;31mRunning cells with 'd:\\Python\\python all\\Projects\\Kidney_Disease_classification\\Kidney_Disease_Classificaton_DL_Project\\kidney_disease_classification\\python.exe' requires the ipykernel package.\n",
      "\u001b[1;31mRun the following command to install 'ipykernel' into the Python environment. \n",
      "\u001b[1;31mCommand: 'conda install -p d:\\Python\\python all\\Projects\\Kidney_Disease_classification\\Kidney_Disease_Classificaton_DL_Project\\kidney_disease_classification ipykernel --update-deps --force-reinstall'"
     ]
    }
   ],
   "source": [
    "import gdown"
   ]
  },
  {
   "cell_type": "code",
   "execution_count": null,
   "metadata": {},
   "outputs": [
    {
     "ename": "",
     "evalue": "",
     "output_type": "error",
     "traceback": [
      "\u001b[1;31mRunning cells with 'd:\\Python\\python all\\Projects\\Kidney_Disease_classification\\Kidney_Disease_Classificaton_DL_Project\\kidney_disease_classification\\python.exe' requires the ipykernel package.\n",
      "\u001b[1;31mRun the following command to install 'ipykernel' into the Python environment. \n",
      "\u001b[1;31mCommand: 'conda install -p d:\\Python\\python all\\Projects\\Kidney_Disease_classification\\Kidney_Disease_Classificaton_DL_Project\\kidney_disease_classification ipykernel --update-deps --force-reinstall'"
     ]
    }
   ],
   "source": [
    "url = \"https://drive.google.com/file/d/1vlhZ5c7abUKF8xXERIw6m9Te8fW7ohw3/view?usp=sharing\""
   ]
  },
  {
   "cell_type": "code",
   "execution_count": null,
   "metadata": {},
   "outputs": [],
   "source": [
    "file_id = url.split(\"/\")[-2]\n",
    "file_id"
   ]
  }
 ],
 "metadata": {
  "kernelspec": {
   "display_name": "Python 3",
   "language": "python",
   "name": "python3"
  },
  "language_info": {
   "codemirror_mode": {
    "name": "ipython",
    "version": 3
   },
   "file_extension": ".py",
   "mimetype": "text/x-python",
   "name": "python",
   "nbconvert_exporter": "python",
   "pygments_lexer": "ipython3",
   "version": "3.8.18"
  }
 },
 "nbformat": 4,
 "nbformat_minor": 2
}
